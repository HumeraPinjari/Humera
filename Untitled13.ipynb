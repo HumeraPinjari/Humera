{
  "nbformat": 4,
  "nbformat_minor": 0,
  "metadata": {
    "colab": {
      "provenance": [],
      "authorship_tag": "ABX9TyMdAyIruhskSHpVzSSNY9on",
      "include_colab_link": true
    },
    "kernelspec": {
      "name": "python3",
      "display_name": "Python 3"
    },
    "language_info": {
      "name": "python"
    }
  },
  "cells": [
    {
      "cell_type": "markdown",
      "metadata": {
        "id": "view-in-github",
        "colab_type": "text"
      },
      "source": [
        "<a href=\"https://colab.research.google.com/github/HumeraPinjari/Humera/blob/main/Untitled13.ipynb\" target=\"_parent\"><img src=\"https://colab.research.google.com/assets/colab-badge.svg\" alt=\"Open In Colab\"/></a>"
      ]
    },
    {
      "cell_type": "code",
      "execution_count": 1,
      "metadata": {
        "colab": {
          "base_uri": "https://localhost:8080/"
        },
        "id": "VylmJdOkm4MX",
        "outputId": "c5804165-9a4d-4aba-e7f3-54942c1878b7"
      },
      "outputs": [
        {
          "output_type": "stream",
          "name": "stdout",
          "text": [
            "[10, 10, 10]\n",
            "[10, 10, 10]\n",
            "[10, 10, 10]\n"
          ]
        }
      ],
      "source": [
        "\n",
        "\n",
        "X = [[1,2,3],\n",
        "    [4 ,5,6],\n",
        "    [7 ,8,9]]\n",
        "\n",
        "Y = [[9,8,7],\n",
        "    [6,5,4],\n",
        "    [3,2,1]]\n",
        "\n",
        "\n",
        "result = [[0,0,0],\n",
        "        [0,0,0],\n",
        "        [0,0,0]]\n",
        "\n",
        "for i in range(len(X)):\n",
        "    for j in range(len(X[0])):\n",
        "        result[i][j] = X[i][j] + Y[i][j]\n",
        "\n",
        "for r in result:\n",
        "    print(r)\n"
      ]
    },
    {
      "cell_type": "code",
      "source": [
        "X = [[8,4,2],\n",
        "    [3,9,4],\n",
        "    [4 ,3,6]]\n",
        "\n",
        "Y = [[9,8,7],\n",
        "    [6,5,4],\n",
        "    [3,2,1]]\n",
        "\n",
        "\n",
        "result = [[0,0,0],\n",
        "        [0,0,0],\n",
        "        [0,0,0]]\n",
        "\n",
        "for i in range(len(X)):\n",
        "    for j in range(len(X[0])):\n",
        "        result[i][j] = X[i][j] - Y[i][j]\n",
        "\n",
        "for r in result:\n",
        "    print(r)\n"
      ],
      "metadata": {
        "colab": {
          "base_uri": "https://localhost:8080/"
        },
        "id": "VnPOP7qerHwn",
        "outputId": "bd7e997f-53ae-4c06-8357-334bbc29f0b9"
      },
      "execution_count": 2,
      "outputs": [
        {
          "output_type": "stream",
          "name": "stdout",
          "text": [
            "[-1, -4, -5]\n",
            "[-3, 4, 0]\n",
            "[1, 1, 5]\n"
          ]
        }
      ]
    },
    {
      "cell_type": "code",
      "source": [
        "X = [[12,7,3],\n",
        "    [4 ,5,6],\n",
        "    [7 ,8,9]]\n",
        "\n",
        "Y = [[5,8,2],\n",
        "    [6,7,0],\n",
        "    [4,5,1]]\n",
        "\n",
        "result = [[0,0,0],\n",
        "         [0,0,0],\n",
        "         [0,0,0]]\n",
        "\n",
        "for i in range(len(X)):\n",
        "   for j in range(len(Y[0])):\n",
        "       for k in range(len(Y)):\n",
        "           result[i][j] += X[i][k] * Y[k][j]\n",
        "\n",
        "for r in result:\n",
        "   print(r)\n"
      ],
      "metadata": {
        "colab": {
          "base_uri": "https://localhost:8080/"
        },
        "id": "VOI477AhuAQg",
        "outputId": "a4f180c9-70f8-4cbe-b812-9dd87f547095"
      },
      "execution_count": 4,
      "outputs": [
        {
          "output_type": "stream",
          "name": "stdout",
          "text": [
            "[114, 160, 27]\n",
            "[74, 97, 14]\n",
            "[119, 157, 23]\n"
          ]
        }
      ]
    }
  ]
}